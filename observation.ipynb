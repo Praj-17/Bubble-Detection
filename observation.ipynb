{
 "cells": [
  {
   "attachments": {},
   "cell_type": "markdown",
   "metadata": {},
   "source": [
    "# Observations on Bubble Detection"
   ]
  },
  {
   "cell_type": "code",
   "execution_count": 2,
   "metadata": {},
   "outputs": [],
   "source": [
    "import cv2\n",
    "import matplotlib.pyplot as plt\n",
    "import numpy as np \n"
   ]
  },
  {
   "cell_type": "code",
   "execution_count": 3,
   "metadata": {},
   "outputs": [],
   "source": [
    "def build_grid(img, grid_size = (100,100), line_color =(255, 0, 0) ):\n",
    "\n",
    "    # Iterate over the rows and columns to draw the lines\n",
    "    for i in range(0, img.shape[0], grid_size[0]):\n",
    "        cv2.line(img, (0, i), (img.shape[1], i), line_color, 1)\n",
    "    for j in range(0, img.shape[1], grid_size[1]):\n",
    "        cv2.line(img, (j, 0), (j, img.shape[0]), line_color, 1)\n",
    "    return img\n",
    "def plot_images(img1, img2):\n",
    "    img1 = build_grid(img1)\n",
    "    img2 = build_grid(img2)\n",
    "    f = plt.figure(figsize = (15,10))\n",
    "    f.add_subplot(1,2, 1)\n",
    "    plt.imshow(cv2.cvtColor(img1, cv2.COLOR_BGR2RGB))\n",
    "    f.add_subplot(1,2, 2)\n",
    "\n",
    "    plt.imshow(cv2.cvtColor(img2, cv2.COLOR_BGR2RGB))\n",
    "   \n",
    "    plt.show(block=True)\n",
    "\n",
    "def mask(img, lower_threshold = 150, upper_threshold = 250):\n",
    "    \n",
    "    # Create the mask for bright pixels\n",
    "    mask = cv2.inRange(img, lower_threshold, upper_threshold)\n",
    "    # Apply the mask to the original image to show only bright pixels\n",
    "    return cv2.bitwise_and(img, img, mask=mask)\n",
    "\n",
    "def mask_color(img, lower_bound:list, upper_bound:list):\n",
    "    lower_bound = np.array(lower_bound, dtype = \"uint8\") \n",
    "    upper_bound = np.array(upper_bound, dtype = \"uint8\")\n",
    "    mask = cv2.inRange(img, lower_bound, upper_bound)\n",
    "    return cv2.bitwise_and(img, img, mask =  mask) \n",
    "    "
   ]
  },
  {
   "cell_type": "code",
   "execution_count": 4,
   "metadata": {},
   "outputs": [],
   "source": [
    "# m1 = mask_color(cv2.imread(r'Data\\1.png'), [100,100,100], [200,200,200])\n",
    "# m2 = mask(mask(cv2.cvtColor(cv2.imread(r'Data\\1.png'),cv2.COLOR_BGR2GRAY), 100,140))\n",
    "\n",
    "# cv2.imshow(\"frame\", m1-m2 )"
   ]
  },
  {
   "cell_type": "code",
   "execution_count": 19,
   "metadata": {},
   "outputs": [
    {
     "data": {
      "text/plain": [
       "True"
      ]
     },
     "execution_count": 19,
     "metadata": {},
     "output_type": "execute_result"
    }
   ],
   "source": [
    "\n",
    "img = mask_color(cv2.imread(r'Data\\1.png'), [141,141,121], [150,150,220])\n",
    "cv2.imshow(\"frame\", img)\n",
    "cv2.waitKey(0)\n",
    "cv2.imwrite(\"121_200_bgr.jpeg\", img)"
   ]
  },
  {
   "cell_type": "code",
   "execution_count": 20,
   "metadata": {},
   "outputs": [],
   "source": [
    "# cam = cv2.VideoCapture(\"Data\\plant.mp4\")\n",
    "# total_frames = int(cam.get(cv2.CAP_PROP_FRAME_COUNT))\n",
    "# skip_rate = 20\n",
    "# for i in range(0, total_frames, skip_rate):\n",
    "#     cam.set(cv2.CAP_PROP_POS_FRAMES, i)\n",
    "#     ret, frame = cam.read()\n",
    "#     # print('Position:', int(cam.get(cv2.CAP_PROP_POS_FRAMES)))\n",
    "#     if frame is None or not ret:\n",
    "#         break\n",
    "#     # cv2.imshow(\"frame\", cv2.cvtColor(frame,cv2.COLOR_BGR2GRAY))\n",
    "#     # cv2.waitKey(0)\n",
    "#     mask_image = mask(cv2.cvtColor(frame,cv2.COLOR_BGR2GRAY), 100,140)\n",
    "#     # print(mask_image)\n",
    "#     # print(mask_image.shape)\n",
    "#     # print(frame.shape)\n",
    "    \n",
    "#     plot_images(frame, mask_image)\n",
    "    \n",
    "    \n",
    "#     if cv2.waitKey(1) & 0xFF == ord('q'):\n",
    "#                 break\n",
    "# cam.release()\n",
    "# cv2.destroyAllWindows()\n"
   ]
  },
  {
   "attachments": {},
   "cell_type": "markdown",
   "metadata": {},
   "source": [
    "# Observations\n",
    "\n",
    "<li>The reflection of light on the cylinders is significant and is affecting the masked images</li>\n",
    "<li>We can paint the rods to dark color so as it doesnt get detected</li>\n",
    "<li>Bubbles are mostly detected in 100 to 150 range</li>"
   ]
  },
  {
   "cell_type": "markdown",
   "metadata": {},
   "source": []
  }
 ],
 "metadata": {
  "kernelspec": {
   "display_name": "Python 3",
   "language": "python",
   "name": "python3"
  },
  "language_info": {
   "codemirror_mode": {
    "name": "ipython",
    "version": 3
   },
   "file_extension": ".py",
   "mimetype": "text/x-python",
   "name": "python",
   "nbconvert_exporter": "python",
   "pygments_lexer": "ipython3",
   "version": "3.9.7"
  },
  "orig_nbformat": 4,
  "vscode": {
   "interpreter": {
    "hash": "941096ab4a304f3509822dba92ee1d36e30c4bf17f0e34fdfd12300d4a2ccfca"
   }
  }
 },
 "nbformat": 4,
 "nbformat_minor": 2
}
