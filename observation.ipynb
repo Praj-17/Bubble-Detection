{
 "cells": [
  {
   "attachments": {},
   "cell_type": "markdown",
   "metadata": {},
   "source": [
    "# Observations on Bubble Detection"
   ]
  },
  {
   "cell_type": "code",
   "execution_count": 229,
   "metadata": {},
   "outputs": [],
   "source": [
    "import cv2\n",
    "import matplotlib.pyplot as plt\n",
    "import numpy as np \n"
   ]
  },
  {
   "cell_type": "code",
   "execution_count": 230,
   "metadata": {},
   "outputs": [],
   "source": [
    "def build_grid(img, grid_size = (100,100), line_color =(255, 0, 0) ):\n",
    "\n",
    "    # Iterate over the rows and columns to draw the lines\n",
    "    for i in range(0, img.shape[0], grid_size[0]):\n",
    "        cv2.line(img, (0, i), (img.shape[1], i), line_color, 1)\n",
    "    for j in range(0, img.shape[1], grid_size[1]):\n",
    "        cv2.line(img, (j, 0), (j, img.shape[0]), line_color, 1)\n",
    "    return img\n",
    "def plot_images(img1, img2):\n",
    "    img1 = build_grid(img1)\n",
    "    img2 = build_grid(img2)\n",
    "    f = plt.figure(figsize = (15,10))\n",
    "    f.add_subplot(1,2, 1)\n",
    "    plt.imshow(cv2.cvtColor(img1, cv2.COLOR_BGR2RGB))\n",
    "    f.add_subplot(1,2, 2)\n",
    "\n",
    "    plt.imshow(cv2.cvtColor(img2, cv2.COLOR_BGR2RGB))\n",
    "   \n",
    "    plt.show(block=True)\n",
    "\n",
    "def mask(img, lower_threshold = 150, upper_threshold = 250):\n",
    "    \n",
    "    # Create the mask for bright pixels\n",
    "    mask = cv2.inRange(img, lower_threshold, upper_threshold)\n",
    "    # Apply the mask to the original image to show only bright pixels\n",
    "    return cv2.bitwise_and(img, img, mask=mask)\n",
    "\n",
    "def mask_color(img, lower_bound:list, upper_bound:list):\n",
    "    lower_bound = np.array(lower_bound, dtype = \"uint8\") \n",
    "    upper_bound = np.array(upper_bound, dtype = \"uint8\")\n",
    "    mask = cv2.inRange(img, lower_bound, upper_bound)\n",
    "    return cv2.bitwise_and(img, img, mask =  mask) \n",
    "    "
   ]
  },
  {
   "cell_type": "code",
   "execution_count": 231,
   "metadata": {},
   "outputs": [],
   "source": [
    "# m1 = mask_color(cv2.imread(r'Data\\1.png'), [100,100,100], [200,200,200])\n",
    "# m2 = mask(mask(cv2.cvtColor(cv2.imread(r'Data\\1.png'),cv2.COLOR_BGR2GRAY), 100,140))\n",
    "\n",
    "# cv2.imshow(\"frame\", m1-m2 )"
   ]
  },
  {
   "cell_type": "code",
   "execution_count": 232,
   "metadata": {},
   "outputs": [
    {
     "data": {
      "text/plain": [
       "True"
      ]
     },
     "execution_count": 232,
     "metadata": {},
     "output_type": "execute_result"
    }
   ],
   "source": [
    "\n",
    "img = mask_color(cv2.imread(r'Data\\1.png'), [141,141,121], [150,150,220])\n",
    "cv2.imshow(\"frame\", img)\n",
    "cv2.waitKey(0)\n",
    "cv2.imwrite(\"121_200_bgr.jpeg\", img)"
   ]
  },
  {
   "cell_type": "code",
   "execution_count": 233,
   "metadata": {},
   "outputs": [],
   "source": [
    "# cam = cv2.VideoCapture(\"Data\\plant.mp4\")\n",
    "# total_frames = int(cam.get(cv2.CAP_PROP_FRAME_COUNT))\n",
    "# skip_rate = 20\n",
    "# for i in range(0, total_frames, skip_rate):\n",
    "#     cam.set(cv2.CAP_PROP_POS_FRAMES, i)\n",
    "#     ret, frame = cam.read()\n",
    "#     # print('Position:', int(cam.get(cv2.CAP_PROP_POS_FRAMES)))\n",
    "#     if frame is None or not ret:\n",
    "#         break\n",
    "#     # cv2.imshow(\"frame\", cv2.cvtColor(frame,cv2.COLOR_BGR2GRAY))\n",
    "#     # cv2.waitKey(0)\n",
    "#     mask_image = mask(cv2.cvtColor(frame,cv2.COLOR_BGR2GRAY), 100,140)\n",
    "#     # print(mask_image)\n",
    "#     # print(mask_image.shape)\n",
    "#     # print(frame.shape)\n",
    "    \n",
    "#     plot_images(frame, mask_image)\n",
    "    \n",
    "    \n",
    "#     if cv2.waitKey(1) & 0xFF == ord('q'):\n",
    "#                 break\n",
    "# cam.release()\n",
    "# cv2.destroyAllWindows()\n"
   ]
  },
  {
   "attachments": {},
   "cell_type": "markdown",
   "metadata": {},
   "source": [
    "# Observations\n",
    "\n",
    "<li>The reflection of light on the cylinders is significant and is affecting the masked images</li>\n",
    "<li>We can paint the rods to dark color so as it doesnt get detected</li>\n",
    "<li>Bubbles are mostly detected in 100 to 150 range</li>"
   ]
  },
  {
   "cell_type": "markdown",
   "metadata": {},
   "source": []
  },
  {
   "attachments": {},
   "cell_type": "markdown",
   "metadata": {},
   "source": [
    "# Detecting Circles"
   ]
  },
  {
   "cell_type": "code",
   "execution_count": 234,
   "metadata": {},
   "outputs": [],
   "source": [
    "# # img = cv2.medianBlur(img,5)\n",
    "# img = cv2.cvtColor(img, cv2.COLOR_BGR2RGB)\n",
    "# plt.imshow(img)\n",
    "# image = img.copy()\n"
   ]
  },
  {
   "attachments": {},
   "cell_type": "markdown",
   "metadata": {},
   "source": [
    "Performing edge detection to bold out the circles"
   ]
  },
  {
   "cell_type": "code",
   "execution_count": 235,
   "metadata": {},
   "outputs": [],
   "source": [
    "def merge_circles(circles):\n",
    "    x = 0\n",
    "    y = 0\n",
    "    r = 0\n",
    "    for circle in circles:\n",
    "        x += circle[0]\n",
    "        y += circle[1]\n",
    "        r = max(r, circle[2])\n",
    "    x /= len(circles)\n",
    "    y /= len(circles)\n",
    "    return (int(x), int(y), int(r))"
   ]
  },
  {
   "cell_type": "code",
   "execution_count": 236,
   "metadata": {},
   "outputs": [],
   "source": [
    "\n",
    "\n",
    "\n",
    "# # Convert the image to grayscale\n",
    "# gray = cv2.cvtColor(img, cv2.COLOR_BGR2GRAY)\n",
    "\n",
    "# # Apply Gaussian blur to reduce noise\n",
    "# blurred = cv2.GaussianBlur(gray, (5, 5), 0)\n",
    "\n",
    "# # Apply Canny edge detection\n",
    "# edges = cv2.Canny(blurred, 200, 300)\n",
    "\n",
    "# # Detect circular arcs using Hough Transform\n",
    "# circles = cv2.HoughCircles(edges, cv2.HOUGH_GRADIENT, 1, 20, param1=50, param2=30, minRadius=0, maxRadius=0)\n",
    "\n",
    "# # Check if any circles were detected\n",
    "# if circles is not None:\n",
    "#     # Convert the (x, y) coordinates and radius of the circles to integers\n",
    "#     circles = np.round(circles[0, :]).astype(\"int\")\n",
    "\n",
    "#     # Loop over the circles\n",
    "#     for (x, y, r) in circles:\n",
    "#         # Draw the circle in the output image\n",
    "#         cv2.circle(img, (x, y), r, (0, 255, 0), 2)\n",
    "\n",
    "# # Display the output image\n",
    "# cv2.imshow(\"Circular Arcs\", img)\n",
    "# cv2.waitKey(0)\n",
    "# cv2.destroyAllWindows()\n"
   ]
  },
  {
   "cell_type": "code",
   "execution_count": 237,
   "metadata": {},
   "outputs": [],
   "source": [
    "# import cv2\n",
    "# import numpy as np\n",
    "\n",
    "# # Load the input image\n",
    "\n",
    "# # Convert the image to grayscale\n",
    "# gray = cv2.cvtColor(img, cv2.COLOR_BGR2GRAY)\n",
    "\n",
    "# # Apply Gaussian blur to reduce noise\n",
    "# blurred = cv2.GaussianBlur(gray, (5, 5), 0)\n",
    "\n",
    "# # Apply Canny edge detection\n",
    "# edges = cv2.Canny(blurred, 300, 400)\n",
    "\n",
    "# # Detect circular arcs using Hough Transform\n",
    "# circles = cv2.HoughCircles(edges, cv2.HOUGH_GRADIENT, 1, 20, param1=50, param2=30, minRadius=100, maxRadius=300)\n",
    "\n",
    "# # Check if any circles were detected\n",
    "# if circles is not None:\n",
    "#     # Convert the (x, y) coordinates and radius of the circles to integers\n",
    "#     circles = np.round(circles[0, :]).astype(\"int\")\n",
    "\n",
    "#     # Initialize a list to store the filtered circles\n",
    "#     filtered_circles = []\n",
    "\n",
    "#     # Loop over the circles\n",
    "#     for (x, y, r) in circles:\n",
    "#         # Initialize a flag to indicate whether the circle has been filtered\n",
    "#         filtered = False\n",
    "\n",
    "#         # Loop over the filtered circles\n",
    "#         for (fx, fy, fr) in filtered_circles:\n",
    "#             # Calculate the distance between the centers of the circles\n",
    "#             d = np.sqrt((x - fx)**2 + (y - fy)**2)\n",
    "\n",
    "#             # If the distance is smaller than the sum of their radii, remove the circle with the smaller radius\n",
    "#             if d < r + fr:\n",
    "#                 filtered = True\n",
    "#                 if r < fr:\n",
    "#                     break\n",
    "\n",
    "#         # If the circle was not filtered, add it to the list of filtered circles\n",
    "#         if not filtered:\n",
    "#             filtered_circles.append((x, y, r))\n",
    "\n",
    "#     # Draw the filtered circles in the output image\n",
    "#     for (x, y, r) in filtered_circles:\n",
    "#         cv2.circle(img, (x, y), r, (0, 255, 0), 2)\n",
    "\n",
    "# # Display the output image\n",
    "# cv2.imshow(\"Filtered Circles\", img)\n",
    "# cv2.waitKey(0)\n",
    "# cv2.destroyAllWindows()\n"
   ]
  },
  {
   "cell_type": "code",
   "execution_count": 238,
   "metadata": {},
   "outputs": [],
   "source": [
    "import cv2\n",
    "import numpy as np\n",
    "\n",
    "def get_circles(image, lower_bound = [141,141,121], upper_bound=[150,150,220]):\n",
    "    \"\"\"Function Takes in an image both as an array or as a path, Masks it with Red color and returns the detected circles\"\"\"\n",
    "    if isinstance(image, str):\n",
    "        image = cv2.imread(image)\n",
    "     \n",
    "    def mask_color(img, lower_bound:list, upper_bound:list):\n",
    "        lower_bound = np.array(lower_bound, dtype = \"uint8\") \n",
    "        upper_bound = np.array(upper_bound, dtype = \"uint8\")\n",
    "        mask = cv2.inRange(img, lower_bound, upper_bound)\n",
    "        return cv2.bitwise_and(img, img, mask =  mask) \n",
    "   \n",
    "    # Convert the image to grayscale\n",
    "    img = mask_color(image, [121,121,121], [150,150,220])\n",
    "    # cv2.imshow('masked_image', img)\n",
    "    # cv2.waitKey(0)\n",
    "    gray = cv2.cvtColor(img, cv2.COLOR_BGR2GRAY)\n",
    "    # cv2.imshow('gray', gray)\n",
    "    # cv2.waitKey(0)\n",
    "\n",
    "    # # Apply Gaussian blur to reduce noise\n",
    "    # blurred = cv2.GaussianBlur(gray, (5, 5), 0)\n",
    "    # cv2.imshow('blurred', blurred)\n",
    "    # cv2.waitKey(0)\n",
    "    # # Apply Canny edge detection\n",
    "    edges = cv2.Canny(gray, 200, 300)\n",
    "    # cv2.imshow('edges', edges)\n",
    "    # cv2.waitKey(0)\n",
    "\n",
    "    # Detect circular arcs using Hough Transform\n",
    "    circles = cv2.HoughCircles(edges, cv2.HOUGH_GRADIENT, 1, 11, param1=30, param2=38, minRadius=140, maxRadius=400)\n",
    "\n",
    "\n",
    "\n",
    "    filtered_circles = []\n",
    "\n",
    "    # Loop over the circles\n",
    "    if circles is not None:\n",
    "        # Convert the (x, y) coordinates and radius of the circles to integers\n",
    "        circle_dict = {}\n",
    "        for circle in circles:\n",
    "            center = (circle[0], circle[1])\n",
    "            radius = circle[2]\n",
    "\n",
    "            # If the circle center and radius are already in the dictionary, increment their count\n",
    "            if (center, radius) in circle_dict:\n",
    "                circle_dict[(center, radius)] += 1\n",
    "            else:\n",
    "                circle_dict[(center, radius)] = 1\n",
    "        # Select only the circles that occur frequently\n",
    "        circles = list(sorted(circle_dict.items(), key=lambda item: item[1], reverse=True))\n",
    "        print('_______________Circles_____________')\n",
    "        print(circles)\n",
    "        \n",
    "        circles = np.round( circles[0, :]).astype(\"int\")\n",
    "        for (x, y, r) in circles:\n",
    "        # Initialize a flag to indicate whether the circle has been filtered\n",
    "            filtered = False\n",
    "\n",
    "            # Loop over the filtered circles\n",
    "            for (fx, fy, fr) in filtered_circles:\n",
    "                # Calculate the distance between the centers of the circles\n",
    "                d = np.sqrt((x - fx)**2 + (y - fy)**2)\n",
    "\n",
    "                # If the distance is smaller than the sum of their radii, remove the circle with the smaller radius\n",
    "                if d < r + fr:\n",
    "                    filtered = True\n",
    "                    if r < fr:\n",
    "                        break\n",
    "\n",
    "            # If the circle was not filtered, add it to the list of filtered circles\n",
    "            if not filtered:\n",
    "                filtered_circles.append((x, y, r))\n",
    "                    \n",
    "        # for (x, y, r) in circles:\n",
    "        #     cv2.circle(image, (x, y), r, (0, 255, 0), 2)\n",
    "        # Initialize a list to store the centers of the circles\n",
    "        # centers = []\n",
    "\n",
    "        # # Loop over the circles\n",
    "        # for (x, y, r) in circles:\n",
    "        #     centers.append([x, y])\n",
    "\n",
    "        # # Convert the list of centers to a NumPy array\n",
    "        # centers = np.array(centers, dtype=np.float32)\n",
    "\n",
    "        # # Perform KMeans clustering on the centers of the circles\n",
    "        # criteria = (cv2.TERM_CRITERIA_EPS + cv2.TERM_CRITERIA_MAX_ITER, 10, 1.0)\n",
    "        # flags = cv2.KMEANS_RANDOM_CENTERS\n",
    "        # compactness, labels, centers = cv2.kmeans(centers, K=2, bestLabels=None, criteria=criteria, attempts=10, flags=flags)\n",
    "\n",
    "        # # Initialize a dictionary to store the clustered circles\n",
    "        # clustered_circles = {}\n",
    "        # # print(circles)\n",
    "        # # print(circles.shape)\n",
    "        # # print(labels)\n",
    "        # # print(labels.shape)\n",
    "    \n",
    "\n",
    "        # # Loop over the labels and circles\n",
    "        # for label, (x, y, r) in zip(labels, circles):\n",
    "        #     # If the label is not in the dictionary, add it\n",
    "        #     # print(label[0])\n",
    "        #     if label[0] not in clustered_circles.keys():\n",
    "        #         clustered_circles[label[0]] = []\n",
    "\n",
    "        #     # Add the circle to the list for the corresponding label\n",
    "        #     clustered_circles[label[0]].append((x, y, r))\n",
    "        \n",
    "        # print(\"________________Clusters__________\")\n",
    "        # print(clustered_circles)\n",
    "\n",
    "        # Draw the clustered circles in the output image\n",
    "        colors = [(0, 255, 255), (255, 0, 255),(255, 0, 0), (255, 255, 0), (0, 0, 255)]\n",
    "        \n",
    "        # final_circles = [merge_circles(clustered_circles[key]) for key in clustered_circles.keys()]\n",
    "        \n",
    "        # print(\"___________________Final________________\")\n",
    "        # print(final_circles)\n",
    "        \n",
    "        for id, circle in enumerate(filtered_circles):\n",
    "            color = colors[id % len(colors)]\n",
    "            x,y,r = circle\n",
    "            cv2.circle(image, (x, y), r, color, 2)\n",
    "        return image, filtered_circles\n",
    "    else:\n",
    "        print('No circles Detected')\n",
    "        return image, None\n",
    "\n",
    "        \n",
    "\n",
    "# Display the output image\n",
    "# cv2.imshow(\"Clustered Circles\", image)\n",
    "# cv2.waitKey(0)\n",
    "# cv2.destroyAllWindows()\n"
   ]
  },
  {
   "cell_type": "code",
   "execution_count": 239,
   "metadata": {},
   "outputs": [
    {
     "name": "stdout",
     "output_type": "stream",
     "text": [
      "No circles Detected\n",
      "None\n"
     ]
    }
   ],
   "source": [
    "circled_image, circles = get_circles('121_200_bgr.jpeg')\n",
    "\n",
    "cv2.imshow('Final Image', circled_image)\n",
    "cv2.waitKey(0)\n",
    "print(circles)\n"
   ]
  },
  {
   "attachments": {},
   "cell_type": "markdown",
   "metadata": {},
   "source": [
    "### Testing on a video"
   ]
  },
  {
   "cell_type": "code",
   "execution_count": 240,
   "metadata": {},
   "outputs": [
    {
     "ename": "TypeError",
     "evalue": "unhashable type: 'numpy.ndarray'",
     "output_type": "error",
     "traceback": [
      "\u001b[1;31m---------------------------------------------------------------------------\u001b[0m",
      "\u001b[1;31mTypeError\u001b[0m                                 Traceback (most recent call last)",
      "\u001b[1;32m~\\AppData\\Local\\Temp/ipykernel_13668/320143169.py\u001b[0m in \u001b[0;36m<module>\u001b[1;34m\u001b[0m\n\u001b[0;32m      5\u001b[0m     \u001b[1;32mif\u001b[0m \u001b[1;32mnot\u001b[0m \u001b[0mret\u001b[0m \u001b[1;32mor\u001b[0m \u001b[0mframe\u001b[0m \u001b[1;32mis\u001b[0m \u001b[1;32mNone\u001b[0m\u001b[1;33m:\u001b[0m\u001b[1;33m\u001b[0m\u001b[1;33m\u001b[0m\u001b[0m\n\u001b[0;32m      6\u001b[0m         \u001b[1;32mbreak\u001b[0m\u001b[1;33m\u001b[0m\u001b[1;33m\u001b[0m\u001b[0m\n\u001b[1;32m----> 7\u001b[1;33m     \u001b[0mcircled_image\u001b[0m\u001b[1;33m,\u001b[0m \u001b[0mcircles\u001b[0m \u001b[1;33m=\u001b[0m \u001b[0mget_circles\u001b[0m\u001b[1;33m(\u001b[0m\u001b[0mframe\u001b[0m\u001b[1;33m)\u001b[0m\u001b[1;33m\u001b[0m\u001b[1;33m\u001b[0m\u001b[0m\n\u001b[0m\u001b[0;32m      8\u001b[0m     \u001b[0mcv2\u001b[0m\u001b[1;33m.\u001b[0m\u001b[0mimshow\u001b[0m\u001b[1;33m(\u001b[0m\u001b[1;34m'Final Image'\u001b[0m\u001b[1;33m,\u001b[0m \u001b[0mcircled_image\u001b[0m\u001b[1;33m)\u001b[0m\u001b[1;33m\u001b[0m\u001b[1;33m\u001b[0m\u001b[0m\n\u001b[0;32m      9\u001b[0m     \u001b[0mprint\u001b[0m\u001b[1;33m(\u001b[0m\u001b[0mcircles\u001b[0m\u001b[1;33m)\u001b[0m\u001b[1;33m\u001b[0m\u001b[1;33m\u001b[0m\u001b[0m\n",
      "\u001b[1;32m~\\AppData\\Local\\Temp/ipykernel_13668/286059931.py\u001b[0m in \u001b[0;36mget_circles\u001b[1;34m(image, lower_bound, upper_bound)\u001b[0m\n\u001b[0;32m     46\u001b[0m \u001b[1;33m\u001b[0m\u001b[0m\n\u001b[0;32m     47\u001b[0m             \u001b[1;31m# If the circle center and radius are already in the dictionary, increment their count\u001b[0m\u001b[1;33m\u001b[0m\u001b[1;33m\u001b[0m\u001b[0m\n\u001b[1;32m---> 48\u001b[1;33m             \u001b[1;32mif\u001b[0m \u001b[1;33m(\u001b[0m\u001b[0mcenter\u001b[0m\u001b[1;33m,\u001b[0m \u001b[0mradius\u001b[0m\u001b[1;33m)\u001b[0m \u001b[1;32min\u001b[0m \u001b[0mcircle_dict\u001b[0m\u001b[1;33m:\u001b[0m\u001b[1;33m\u001b[0m\u001b[1;33m\u001b[0m\u001b[0m\n\u001b[0m\u001b[0;32m     49\u001b[0m                 \u001b[0mcircle_dict\u001b[0m\u001b[1;33m[\u001b[0m\u001b[1;33m(\u001b[0m\u001b[0mcenter\u001b[0m\u001b[1;33m,\u001b[0m \u001b[0mradius\u001b[0m\u001b[1;33m)\u001b[0m\u001b[1;33m]\u001b[0m \u001b[1;33m+=\u001b[0m \u001b[1;36m1\u001b[0m\u001b[1;33m\u001b[0m\u001b[1;33m\u001b[0m\u001b[0m\n\u001b[0;32m     50\u001b[0m             \u001b[1;32melse\u001b[0m\u001b[1;33m:\u001b[0m\u001b[1;33m\u001b[0m\u001b[1;33m\u001b[0m\u001b[0m\n",
      "\u001b[1;31mTypeError\u001b[0m: unhashable type: 'numpy.ndarray'"
     ]
    }
   ],
   "source": [
    "cam = cv2.VideoCapture(r'Data\\plant.mp4')\n",
    "\n",
    "while cam.isOpened():\n",
    "    ret, frame = cam.read()\n",
    "    if not ret or frame is None:\n",
    "        break\n",
    "    circled_image, circles = get_circles(frame)\n",
    "    cv2.imshow('Final Image', circled_image)\n",
    "    print(circles)\n",
    "    if cv2.waitKey(1) & 0xFF == ord('q'):\n",
    "                break\n",
    "cam.release()\n",
    "cv2.destroyAllWindows()\n",
    "    \n",
    "    \n",
    "    "
   ]
  }
 ],
 "metadata": {
  "kernelspec": {
   "display_name": "Python 3",
   "language": "python",
   "name": "python3"
  },
  "language_info": {
   "codemirror_mode": {
    "name": "ipython",
    "version": 3
   },
   "file_extension": ".py",
   "mimetype": "text/x-python",
   "name": "python",
   "nbconvert_exporter": "python",
   "pygments_lexer": "ipython3",
   "version": "3.9.7"
  },
  "orig_nbformat": 4,
  "vscode": {
   "interpreter": {
    "hash": "941096ab4a304f3509822dba92ee1d36e30c4bf17f0e34fdfd12300d4a2ccfca"
   }
  }
 },
 "nbformat": 4,
 "nbformat_minor": 2
}
